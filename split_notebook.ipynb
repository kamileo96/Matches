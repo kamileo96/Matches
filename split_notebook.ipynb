{
 "cells": [
  {
   "cell_type": "code",
   "execution_count": 20,
   "metadata": {},
   "outputs": [],
   "source": [
    "import librosa, librosa.display\n",
    "import matplotlib.pyplot as plt\n",
    "import numpy as np\n",
    "import soundfile as sf\n",
    "from matplotlib.backends.backend_pdf import PdfPages"
   ]
  },
  {
   "cell_type": "code",
   "execution_count": 219,
   "metadata": {},
   "outputs": [],
   "source": [
    "file = './myaudio/nagrywka-1-44z.wav'\n",
    "signal, sr = librosa.load(file, sr=44100)\n",
    "signal = np.array(signal)"
   ]
  },
  {
   "cell_type": "code",
   "execution_count": 220,
   "metadata": {},
   "outputs": [
    {
     "name": "stdout",
     "output_type": "stream",
     "text": [
      "49 peaks found\n"
     ]
    }
   ],
   "source": [
    "\n",
    "asignal = np.abs(signal)\n",
    "signal_avg = asignal\n",
    "\n",
    "detect_min = 0.02\n",
    "impuls_max_time = 0.4 #s\n",
    "#minimal interval for the program to work\n",
    "\n",
    "det_peaks_idx = np.empty(0, dtype=int)\n",
    "search = True\n",
    "\n",
    "for i, s in enumerate(signal_avg):\n",
    "    if search and s > detect_min:\n",
    "        #print(f'found i {i} s {s}')\n",
    "        search = False\n",
    "        ifin = i + impuls_max_time*sr\n",
    "        maxs = s\n",
    "        maxsidx = i\n",
    "    if not search:\n",
    "        if s > maxs: \n",
    "            maxs = s\n",
    "            maxsidx = i\n",
    "        if i > ifin:\n",
    "            det_peaks_idx = np.append(det_peaks_idx, maxsidx)\n",
    "            search = True\n",
    "if len(det_peaks_idx) == 0: \n",
    "    print('no peaks found. try changing detect_min')\n",
    "else:\n",
    "    print(f'{len(det_peaks_idx)} peaks found')"
   ]
  },
  {
   "cell_type": "code",
   "execution_count": 221,
   "metadata": {},
   "outputs": [],
   "source": [
    "\n",
    "#impuls: <---delta---impuls_time---delta--->\n",
    "delta = 0.04 #s\n",
    "impuls_time = 0.15\n",
    "dleft = (impuls_time + delta)*sr\n",
    "dright = delta*sr\n",
    "segment_data = np.array([np.array([p - dleft, p + dright, 0, p]).astype(int) for p in det_peaks_idx]) # 0 is placeholder for left peak"
   ]
  },
  {
   "cell_type": "code",
   "execution_count": 222,
   "metadata": {},
   "outputs": [
    {
     "data": {
      "text/plain": [
       "<Figure size 640x480 with 0 Axes>"
      ]
     },
     "metadata": {},
     "output_type": "display_data"
    }
   ],
   "source": [
    "#test if everything sounds correct\n",
    "slow_mo = 0.25\n",
    "tests = np.empty(0)\n",
    "with PdfPages('testfigs\\\\testfig.pdf') as pp:\n",
    "    for i,data in enumerate(segment_data):\n",
    "        tests = np.append(tests, signal[data[0]:data[1]])\n",
    "        tests = np.append(tests, np.zeros(int(sr*0.1)))\n",
    "        d = 3000\n",
    "        plt.plot(range(data[0]-d, data[1]+d),signal[data[0]-d:data[1]+d])\n",
    "        plt.plot([data[0], data[0]], [-0.1, 0.1], 'g--')\n",
    "        plt.plot([data[1], data[1]], [-0.1, 0.1], 'r--')\n",
    "        plt.title(f'sample {i}')\n",
    "        pp.savefig()\n",
    "        plt.clf()\n",
    "\n",
    "sf.write('tests.wav', tests, int(sr*slow_mo))"
   ]
  },
  {
   "cell_type": "code",
   "execution_count": 224,
   "metadata": {},
   "outputs": [],
   "source": [
    "#test specific sample (count from 0)\n",
    "sample_num = 42\n",
    "sf.write('test_b.wav', signal[segment_data[sample_num][0]:segment_data[sample_num][1]], int(sr*slow_mo))"
   ]
  },
  {
   "cell_type": "code",
   "execution_count": 225,
   "metadata": {},
   "outputs": [],
   "source": [
    "import os\n",
    "removed_samples = []\n",
    "number_of_matches = 44\n",
    "dirr = 'Home_data'\n",
    "path = f'.\\{dirr}\\Z{number_of_matches}'\n",
    "os.makedirs(path, exist_ok = True)\n",
    "ls = os.listdir(path=path)\n",
    "if len(ls) == 0:\n",
    "    i = 0\n",
    "else:\n",
    "    i = max(int(s[1:-4]) for s in ls) + 1\n",
    "\n",
    "for j,data in enumerate(segment_data):\n",
    "    if j not in removed_samples:\n",
    "        sf.write(f'{path}\\z{i}.wav', signal[data[0]:data[1]], sr)\n",
    "        #np.savetxt(f'{path}\\z{i}.csv', signal[data[0]:data[1]], fmt='%1.6f')\n",
    "    i+=1"
   ]
  },
  {
   "cell_type": "code",
   "execution_count": 9,
   "metadata": {},
   "outputs": [],
   "source": [
    "def Renumerate(path, type):\n",
    "    ls = os.listdir(path=path)\n",
    "    nums = sorted([int(s[1:-4]) for s in ls])\n",
    "    for i,n in enumerate(nums):\n",
    "        os.rename(f'{path}\\z{n}.{type}', f'{path}\\z{i}.{type}')\n",
    "\n",
    "def DeleteData(path,list_to_delete, type, All=False):\n",
    "    ls = os.listdir(path=path)\n",
    "    if All:\n",
    "        for l in ls:\n",
    "            if l[-3:] == type:\n",
    "                print('y')\n",
    "                os.remove(f'{path}\\{l}')\n",
    "        return 0\n",
    "    for n in list_to_delete:\n",
    "        if f'z{n}.{type}' in ls:\n",
    "            os.remove(f'{path}\\z{n}.{type}')"
   ]
  },
  {
   "cell_type": "code",
   "execution_count": 56,
   "metadata": {},
   "outputs": [],
   "source": [
    "number_of_matches = \n",
    "dirr = 'Home_data'\n",
    "path = f'.\\{dirr}\\Z{number_of_matches}'"
   ]
  },
  {
   "cell_type": "code",
   "execution_count": 27,
   "metadata": {},
   "outputs": [],
   "source": [
    "Renumerate(path, 'wav')"
   ]
  },
  {
   "cell_type": "code",
   "execution_count": 57,
   "metadata": {},
   "outputs": [
    {
     "name": "stdout",
     "output_type": "stream",
     "text": [
      "y\n",
      "y\n",
      "y\n",
      "y\n",
      "y\n",
      "y\n",
      "y\n",
      "y\n",
      "y\n",
      "y\n",
      "y\n",
      "y\n",
      "y\n",
      "y\n",
      "y\n",
      "y\n",
      "y\n",
      "y\n",
      "y\n",
      "y\n",
      "y\n",
      "y\n",
      "y\n",
      "y\n",
      "y\n",
      "y\n",
      "y\n",
      "y\n",
      "y\n",
      "y\n",
      "y\n",
      "y\n",
      "y\n",
      "y\n",
      "y\n",
      "y\n",
      "y\n",
      "y\n",
      "y\n",
      "y\n",
      "y\n"
     ]
    },
    {
     "data": {
      "text/plain": [
       "0"
      ]
     },
     "execution_count": 57,
     "metadata": {},
     "output_type": "execute_result"
    }
   ],
   "source": [
    "DeleteData(path,[],'csv', All=True)"
   ]
  },
  {
   "cell_type": "code",
   "execution_count": null,
   "metadata": {},
   "outputs": [],
   "source": []
  }
 ],
 "metadata": {
  "kernelspec": {
   "display_name": "Python 3",
   "language": "python",
   "name": "python3"
  },
  "language_info": {
   "codemirror_mode": {
    "name": "ipython",
    "version": 3
   },
   "file_extension": ".py",
   "mimetype": "text/x-python",
   "name": "python",
   "nbconvert_exporter": "python",
   "pygments_lexer": "ipython3",
   "version": "3.9.13"
  },
  "orig_nbformat": 4,
  "vscode": {
   "interpreter": {
    "hash": "56c18b2537ae515794bb1a4f5127b692e7dd9c4a64b19e01726b355fd71fb8a4"
   }
  }
 },
 "nbformat": 4,
 "nbformat_minor": 2
}
